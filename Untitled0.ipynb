{
  "nbformat": 4,
  "nbformat_minor": 0,
  "metadata": {
    "colab": {
      "name": "Untitled0.ipynb",
      "provenance": [],
      "authorship_tag": "ABX9TyOOjFSn0LS4a2vRZGPBsuq+",
      "include_colab_link": true
    },
    "kernelspec": {
      "name": "python3",
      "display_name": "Python 3"
    },
    "language_info": {
      "name": "python"
    }
  },
  "cells": [
    {
      "cell_type": "markdown",
      "metadata": {
        "id": "view-in-github",
        "colab_type": "text"
      },
      "source": [
        "<a href=\"https://colab.research.google.com/github/lucas-brdev/heitorpc/blob/main/Untitled0.ipynb\" target=\"_parent\"><img src=\"https://colab.research.google.com/assets/colab-badge.svg\" alt=\"Open In Colab\"/></a>"
      ]
    },
    {
      "cell_type": "code",
      "execution_count": null,
      "metadata": {
        "id": "41Mvv3GSIe9P"
      },
      "outputs": [],
      "source": [
        "print ('-' *42)\n",
        "print('MENU'.center(42))\n",
        "print ('-' *42)\n",
        "while True:\n",
        "    n = int(input('''[1] adiciona\n",
        "[2] mostrar'''))\n",
        "    if n == 1 :\n",
        "        teste = open('teste.txt', 'a')\n",
        "        palavras = input('digiter algo: ')\n",
        "        teste.write('-' *len(palavras)+'\\n')\n",
        "        teste.write(palavras+\"\\n\")\n",
        "        teste.write('-' *len(palavras)+'\\n')\n",
        "        print(f'{palavras} adicionado na lista com sucesso')\n",
        "    elif n == 2:\n",
        "        teste = open('teste.txt', 'r')\n",
        "        print(teste.read())"
      ]
    },
    {
      "cell_type": "code",
      "source": [
        ""
      ],
      "metadata": {
        "id": "2WDYK3BKqZ8C"
      },
      "execution_count": null,
      "outputs": []
    }
  ]
}